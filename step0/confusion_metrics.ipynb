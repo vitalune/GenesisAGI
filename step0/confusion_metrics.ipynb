{
 "cells": [
  {
   "cell_type": "markdown",
   "id": "7694f13a-f889-4fab-a330-6097c876435a",
   "metadata": {},
   "source": [
    "# The Validation Experiment Design"
   ]
  },
  {
   "cell_type": "markdown",
   "id": "73851cf5-c18f-4e93-97b2-71c5814a0ada",
   "metadata": {},
   "source": [
    "## 1.2 Confusion metrics to test"
   ]
  },
  {
   "cell_type": "code",
   "execution_count": null,
   "id": "26f2015e-75c4-4be9-9390-880e74d38a03",
   "metadata": {},
   "outputs": [],
   "source": [
    "class ConfusionDetector:\n",
    "    '''test different confusion metrics'''\n",
    "\n",
    "    def __init__(self):\n",
    "        self.metrics_history = {\n",
    "            'loss': [],\n",
    "            'attention_entropy': [],\n",
    "            'gradient_variance': [],\n",
    "            'layer_disagreement': [],\n",
    "            'activation_magnitude': [],\n",
    "            'prediction_confidence': []\n",
    "        }"
   ]
  }
 ],
 "metadata": {
  "kernelspec": {
   "display_name": "Python 3 (ipykernel)",
   "language": "python",
   "name": "python3"
  },
  "language_info": {
   "codemirror_mode": {
    "name": "ipython",
    "version": 3
   },
   "file_extension": ".py",
   "mimetype": "text/x-python",
   "name": "python",
   "nbconvert_exporter": "python",
   "pygments_lexer": "ipython3",
   "version": "3.9.6"
  }
 },
 "nbformat": 4,
 "nbformat_minor": 5
}
