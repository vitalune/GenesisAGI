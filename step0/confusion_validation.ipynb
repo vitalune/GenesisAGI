{
 "cells": [
  {
   "cell_type": "markdown",
   "id": "acf0995f-6fbe-4741-b786-19460013c3b2",
   "metadata": {},
   "source": [
    "# The Validation Experiment Design"
   ]
  },
  {
   "cell_type": "markdown",
   "id": "9a397535-ef77-42d2-81d9-681e4ea733ca",
   "metadata": {},
   "source": [
    "## 1.3 Implementing the confusion detection experiment"
   ]
  },
  {
   "cell_type": "code",
   "execution_count": 2,
   "id": "49354883-5e8c-4193-8d98-079a161cbb31",
   "metadata": {},
   "outputs": [],
   "source": [
    "def run_confusion_validation():\n",
    "    \"\"\"\n",
    "    the experiment that either proves\n",
    "    or disapproves confusion detection:\n",
    "\n",
    "    - phase 1: train on addition -> low confusion\n",
    "    within architecture capability\n",
    "    - phase 2a: introduce multiplication -> high confusion\n",
    "    proving necessity for new architecture\n",
    "    - phase 2b: introduce subtraction -> low confusion\n",
    "    proving same architecture works\n",
    "\n",
    "    if we can't distinguish 2a from 2b, \n",
    "    the whole project sucks\n",
    "    \"\"\"\n",
    "\n",
    "    model = InstrumentedTransformer(ModelConfig())\n",
    "    detector = ConfusionDetector()\n",
    "    optimizer = torch.optim.Adam(model.parameters(), lr=1e-3)\n",
    "\n",
    "    results = {\n",
    "        'phase1_addition': [],\n",
    "        'phase2a_multiplication': [],\n",
    "        'phase2b_subtraction': []\n",
    "    }\n",
    "\n",
    "    # phase 1: addition training to establish baseline\n",
    "    print(\"Phase 1: Training on addition...\")\n",
    "    for step in range(500):\n",
    "        batch = generate_arithmetic_batch(operation='add', batch_size=32)\n",
    "\n",
    "        # forward w/ instrumentation\n",
    "        logits, metadata = model(batch['input'], return_metadata=True)\n",
    "        loss = nn.CrossEntropyLoss()(logits.view(-1, logits.size(-1)),\n",
    "                                     batch['target'].view(-1))\n",
    "\n",
    "        # compute confusion metrics\n",
    "        metrics = detector.compute_all_metrics(model, batch, metadata)\n",
    "        results['phase1_addition'].append(metrics)\n",
    "\n",
    "        # train!\n",
    "        optimizer.zero_grad()\n",
    "        loss_backward()\n",
    "        optimizer.step()\n",
    "\n",
    "        if step % 50 == 0:\n",
    "            print(f\"Step {step}, Loss: {loss.item():.4f}, \"\n",
    "                  f\"Entropy: {metrics['attention_entropy']:.4f}\")\n",
    "\n",
    "    print(\"Addition learned. Confusion metrics baseline established.\\n\")\n",
    "\n",
    "    # phase 2a: introduce multiplication\n",
    "    # which should spike confusion\n",
    "    print(\"Phase 2a: introducing multiplication...\")\n",
    "    for step in range(500, 700):\n",
    "        batch = generate_arithmetic_batch(operation='multiply', batch_size=32)\n",
    "        \n",
    "        metrics = detector.compute_all_metrics(model, batch, metadata)\n",
    "        results['phase2a_multiplication'].append(metrics)\n",
    "        \n",
    "        # don't train yet, just measure confusion\n",
    "        if step % 20 == 0:\n",
    "            print(f\"Step {step}, Multiplication Confusion: \"\n",
    "                  f\"Entropy: {metrics['attention_entropy']:.4f}, \"\n",
    "                  f\"Loss: {metrics['loss']:.4f}\")\n",
    "\n",
    "    # phase 2b: introduce subtraction (should NOT spike confusion much)\n",
    "    print(\"\\nPhase 2b: Introducing SUBTRACTION...\")\n",
    "    model_copy = copy.deepcopy(model)  # start from same point\n",
    "    for step in range(500, 700):\n",
    "        batch = generate_arithmetic_batch(operation='subtract', batch_size=32)\n",
    "        \n",
    "        metrics = detector.compute_all_metrics(model_copy, batch, metadata)\n",
    "        results['phase2b_subtraction'].append(metrics)\n",
    "        \n",
    "        if step % 20 == 0:\n",
    "            print(f\"Step {step}, Subtraction Confusion: \"\n",
    "                  f\"Entropy: {metrics['attention_entropy']:.4f}, \"\n",
    "                  f\"Loss: {metrics['loss']:.4f}\")\n",
    "    \n",
    "    return results"
   ]
  },
  {
   "cell_type": "code",
   "execution_count": 20,
   "id": "6ad25d89-1138-4a3a-945c-4c818961cf40",
   "metadata": {},
   "outputs": [
    {
     "name": "stdout",
     "output_type": "stream",
     "text": [
      "Phase 1: Training on addition...\n"
     ]
    },
    {
     "ename": "NameError",
     "evalue": "name 'generate_arithmetic_batch' is not defined",
     "output_type": "error",
     "traceback": [
      "\u001b[0;31m---------------------------------------------------------------------------\u001b[0m",
      "\u001b[0;31mNameError\u001b[0m                                 Traceback (most recent call last)",
      "Cell \u001b[0;32mIn[20], line 7\u001b[0m\n\u001b[1;32m      4\u001b[0m importlib\u001b[38;5;241m.\u001b[39mreload(model_classes)\n\u001b[1;32m      5\u001b[0m \u001b[38;5;28;01mfrom\u001b[39;00m\u001b[38;5;250m \u001b[39m\u001b[38;5;21;01mmodel_classes\u001b[39;00m\u001b[38;5;250m \u001b[39m\u001b[38;5;28;01mimport\u001b[39;00m InstrumentedTransformer, ModelConfig, ConfusionDetector\n\u001b[0;32m----> 7\u001b[0m results \u001b[38;5;241m=\u001b[39m \u001b[43mrun_confusion_validation\u001b[49m\u001b[43m(\u001b[49m\u001b[43m)\u001b[49m\n",
      "Cell \u001b[0;32mIn[2], line 30\u001b[0m, in \u001b[0;36mrun_confusion_validation\u001b[0;34m()\u001b[0m\n\u001b[1;32m     28\u001b[0m \u001b[38;5;28mprint\u001b[39m(\u001b[38;5;124m\"\u001b[39m\u001b[38;5;124mPhase 1: Training on addition...\u001b[39m\u001b[38;5;124m\"\u001b[39m)\n\u001b[1;32m     29\u001b[0m \u001b[38;5;28;01mfor\u001b[39;00m step \u001b[38;5;129;01min\u001b[39;00m \u001b[38;5;28mrange\u001b[39m(\u001b[38;5;241m500\u001b[39m):\n\u001b[0;32m---> 30\u001b[0m     batch \u001b[38;5;241m=\u001b[39m \u001b[43mgenerate_arithmetic_batch\u001b[49m(operation\u001b[38;5;241m=\u001b[39m\u001b[38;5;124m'\u001b[39m\u001b[38;5;124madd\u001b[39m\u001b[38;5;124m'\u001b[39m, batch_size\u001b[38;5;241m=\u001b[39m\u001b[38;5;241m32\u001b[39m)\n\u001b[1;32m     32\u001b[0m     \u001b[38;5;66;03m# forward w/ instrumentation\u001b[39;00m\n\u001b[1;32m     33\u001b[0m     logits, metadata \u001b[38;5;241m=\u001b[39m model(batch[\u001b[38;5;124m'\u001b[39m\u001b[38;5;124minput\u001b[39m\u001b[38;5;124m'\u001b[39m], return_metadata\u001b[38;5;241m=\u001b[39m\u001b[38;5;28;01mTrue\u001b[39;00m)\n",
      "\u001b[0;31mNameError\u001b[0m: name 'generate_arithmetic_batch' is not defined"
     ]
    }
   ],
   "source": [
    "import torch\n",
    "import importlib\n",
    "import model_classes\n",
    "importlib.reload(model_classes)\n",
    "from model_classes import InstrumentedTransformer, ModelConfig, ConfusionDetector\n",
    "\n",
    "results = run_confusion_validation()"
   ]
  },
  {
   "cell_type": "code",
   "execution_count": null,
   "id": "bc1cfca0-68d8-40de-9c76-7ae444902daf",
   "metadata": {},
   "outputs": [],
   "source": []
  }
 ],
 "metadata": {
  "kernelspec": {
   "display_name": "Python 3 (ipykernel)",
   "language": "python",
   "name": "python3"
  },
  "language_info": {
   "codemirror_mode": {
    "name": "ipython",
    "version": 3
   },
   "file_extension": ".py",
   "mimetype": "text/x-python",
   "name": "python",
   "nbconvert_exporter": "python",
   "pygments_lexer": "ipython3",
   "version": "3.9.6"
  }
 },
 "nbformat": 4,
 "nbformat_minor": 5
}
