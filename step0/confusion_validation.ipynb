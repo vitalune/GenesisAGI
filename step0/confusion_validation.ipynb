{
 "cells": [
  {
   "cell_type": "markdown",
   "id": "acf0995f-6fbe-4741-b786-19460013c3b2",
   "metadata": {},
   "source": [
    "# The Validation Experiment Design"
   ]
  },
  {
   "cell_type": "markdown",
   "id": "9a397535-ef77-42d2-81d9-681e4ea733ca",
   "metadata": {},
   "source": [
    "## 1.3 Implementing the confusion detection experiment"
   ]
  },
  {
   "cell_type": "code",
   "execution_count": 1,
   "id": "49354883-5e8c-4193-8d98-079a161cbb31",
   "metadata": {},
   "outputs": [],
   "source": [
    "def run_confusion_validation():\n",
    "    \"\"\"\n",
    "    the experiment that either proves\n",
    "    or disapproves confusion detection:\n",
    "\n",
    "    - phase 1: train on addition -> low confusion\n",
    "    within architecture capability\n",
    "    - phase 2a: introduce multiplication -> high confusion\n",
    "    proving necessity for new architecture\n",
    "    - phase 2b: introduce subtraction -> low confusion\n",
    "    proving same architecture works\n",
    "\n",
    "    if we can't distinguish 2a from 2b, \n",
    "    the whole project sucks\n",
    "    \"\"\"\n",
    "\n",
    "    model = InstrumentedTransformer(ModelConfig())\n",
    "    detector = ConfusionDetector()\n",
    "    optimizer = torch.optim.Adam(model.parameters(), lr=1e-3)\n",
    "\n",
    "    results = {\n",
    "        'phase1_addition': [],\n",
    "        'phase2a_multiplication': [],\n",
    "        'phase2b_subtraction': []\n",
    "    }\n",
    "\n",
    "    # phase 1: addition training to establish baseline\n",
    "    print(\"Phase 1: Training on addition...\")\n",
    "    for step in range(500):\n",
    "        batch = generate_arithmetic_batch(operation='add', batch_size=32)\n",
    "\n",
    "        # forward w/ instrumentation\n",
    "        logits, metadata = model(batch['input'], return_metadata=True)\n",
    "        loss = nn.CrossEntropyLoss()(logits.view(-1, logits.size(-1)),\n",
    "                                     batch['target'].view(-1))\n",
    "\n",
    "        # compute confusion metrics\n",
    "        metrics = detector.compute_all_metrics(model, batch, metadata)\n",
    "        results['phase1_addition'].append(metrics)\n",
    "\n",
    "        # train!\n",
    "        optimizer.zero_grad()\n",
    "        loss_backward()\n",
    "        optimizer.step()\n",
    "\n",
    "        if step % 50 == 0:\n",
    "            print(f\"Step {step}, Loss: {loss.item():.4f}, \"\n",
    "                  f\"Entropy: {metrics['attention_entropy']:.4f}\")\n",
    "\n",
    "    print(\"Addition learned. Confusion metrics baseline established.\\n\")\n",
    "\n",
    "    # phase 2a: introduce multiplication\n",
    "    # which should spike confusion\n",
    "    print(\"Phase 2a: introducing multiplication...\")\n",
    "    for step in range"
   ]
  },
  {
   "cell_type": "code",
   "execution_count": null,
   "id": "6ad25d89-1138-4a3a-945c-4c818961cf40",
   "metadata": {},
   "outputs": [],
   "source": []
  }
 ],
 "metadata": {
  "kernelspec": {
   "display_name": "Python 3 (ipykernel)",
   "language": "python",
   "name": "python3"
  },
  "language_info": {
   "codemirror_mode": {
    "name": "ipython",
    "version": 3
   },
   "file_extension": ".py",
   "mimetype": "text/x-python",
   "name": "python",
   "nbconvert_exporter": "python",
   "pygments_lexer": "ipython3",
   "version": "3.9.6"
  }
 },
 "nbformat": 4,
 "nbformat_minor": 5
}
