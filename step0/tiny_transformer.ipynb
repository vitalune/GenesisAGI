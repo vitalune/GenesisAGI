{
 "cells": [
  {
   "cell_type": "markdown",
   "id": "a3d1de48-cee7-4958-bc22-c06ea525e920",
   "metadata": {},
   "source": [
    "# The Validation Experiment Design"
   ]
  },
  {
   "cell_type": "markdown",
   "id": "f7350d96-98de-4133-b468-a9bd3218b19d",
   "metadata": {},
   "source": [
    "## 1.1 Building the minimal transformer"
   ]
  },
  {
   "cell_type": "code",
   "execution_count": 2,
   "id": "22d7d9f9-d0dd-4441-b3e0-46fbec1fdfea",
   "metadata": {},
   "outputs": [],
   "source": [
    "import torch\n",
    "import torch.nn as nn\n",
    "import numpy as np\n",
    "import matplotlib.pyplot as plt\n",
    "from dataclasses import dataclass\n",
    "from typing import Dict, List"
   ]
  },
  {
   "cell_type": "code",
   "execution_count": 3,
   "id": "d62ea926-d6ab-447a-ace0-7fa1ac40862c",
   "metadata": {},
   "outputs": [],
   "source": [
    "@dataclass\n",
    "\n",
    "# keeping everything tiny, for now\n",
    "class ModelConfig:\n",
    "    d_model: int = 32\n",
    "    n_layers: int = 2\n",
    "    n_heads: int = 2\n",
    "    d_ff: int = 64\n",
    "    vocab_size: int = 20\n",
    "    max_seq_len: int = 10"
   ]
  }
 ],
 "metadata": {
  "kernelspec": {
   "display_name": "Python 3 (ipykernel)",
   "language": "python",
   "name": "python3"
  },
  "language_info": {
   "codemirror_mode": {
    "name": "ipython",
    "version": 3
   },
   "file_extension": ".py",
   "mimetype": "text/x-python",
   "name": "python",
   "nbconvert_exporter": "python",
   "pygments_lexer": "ipython3",
   "version": "3.9.6"
  }
 },
 "nbformat": 4,
 "nbformat_minor": 5
}
